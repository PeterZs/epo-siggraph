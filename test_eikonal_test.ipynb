{
 "cells": [
  {
   "cell_type": "code",
   "execution_count": 1,
   "metadata": {},
   "outputs": [],
   "source": [
    "%load_ext autoreload\n",
    "%autoreload 2"
   ]
  },
  {
   "cell_type": "code",
   "execution_count": 2,
   "metadata": {},
   "outputs": [],
   "source": [
    "import faulthandler\n",
    "import itertools as it\n",
    "import python_example as olim\n",
    "import matplotlib.pyplot as plt\n",
    "import meshio\n",
    "import numpy as np\n",
    "import pyvista as pv"
   ]
  },
  {
   "cell_type": "code",
   "execution_count": 3,
   "metadata": {},
   "outputs": [],
   "source": [
    "faulthandler.enable()"
   ]
  },
  {
   "cell_type": "code",
   "execution_count": null,
   "metadata": {},
   "outputs": [],
   "source": [
    "mesh = meshio.read('sphere3.vtk')\n",
    "\n",
    "points = mesh.points.astype(np.float64)\n",
    "tetra = mesh.cells['tetra'].astype(np.int64)\n",
    "\n",
    "S = lambda x: 1 + np.dot(x, [0.2, -0.3, 0.1])\n",
    "\n",
    "slowness = S(points)\n",
    "\n",
    "solver = olim.EikonalTetraSolver(points, tetra, slowness)"
   ]
  },
  {
   "cell_type": "markdown",
   "metadata": {},
   "source": [
    "Find the index of the point nearest to the origin"
   ]
  },
  {
   "cell_type": "code",
   "execution_count": 63,
   "metadata": {},
   "outputs": [
    {
     "name": "stdout",
     "output_type": "stream",
     "text": [
      "i = 0, t = 2499, I = [ 803 1607 1898]\n"
     ]
    },
    {
     "ename": "AssertionError",
     "evalue": "",
     "output_type": "error",
     "traceback": [
      "\u001b[0;31m---------------------------------------------------------------------------\u001b[0m",
      "\u001b[0;31mAssertionError\u001b[0m                            Traceback (most recent call last)",
      "\u001b[0;32m<ipython-input-63-1a32f66a82f2>\u001b[0m in \u001b[0;36m<module>\u001b[0;34m\u001b[0m\n\u001b[1;32m     11\u001b[0m         \u001b[0;32mif\u001b[0m \u001b[0mnp\u001b[0m\u001b[0;34m.\u001b[0m\u001b[0many\u001b[0m\u001b[0;34m(\u001b[0m\u001b[0mdots\u001b[0m \u001b[0;34m<\u001b[0m \u001b[0;36m0\u001b[0m\u001b[0;34m)\u001b[0m\u001b[0;34m:\u001b[0m\u001b[0;34m\u001b[0m\u001b[0;34m\u001b[0m\u001b[0m\n\u001b[1;32m     12\u001b[0m             \u001b[0mprint\u001b[0m\u001b[0;34m(\u001b[0m\u001b[0;34m'i = %d, t = %d, I = %s'\u001b[0m \u001b[0;34m%\u001b[0m \u001b[0;34m(\u001b[0m\u001b[0mi\u001b[0m\u001b[0;34m,\u001b[0m \u001b[0mt\u001b[0m\u001b[0;34m,\u001b[0m \u001b[0mI\u001b[0m\u001b[0;34m)\u001b[0m\u001b[0;34m)\u001b[0m\u001b[0;34m\u001b[0m\u001b[0;34m\u001b[0m\u001b[0m\n\u001b[0;32m---> 13\u001b[0;31m             \u001b[0;32massert\u001b[0m \u001b[0;32mFalse\u001b[0m\u001b[0;34m\u001b[0m\u001b[0;34m\u001b[0m\u001b[0m\n\u001b[0m",
      "\u001b[0;31mAssertionError\u001b[0m: "
     ]
    }
   ],
   "source": [
    "for i, vt_neib in enumerate(solver.mesh.vt_neib):\n",
    "    x0 = points[i]\n",
    "\n",
    "    T = np.array(list(vt_neib))\n",
    "    Is = np.array([np.setdiff1d(tetra[t], i) for t in T])\n",
    "\n",
    "    for t, I in zip(T, Is):\n",
    "        X = points[I] - x0\n",
    "        dots = np.sum(X[[0, 1, 2]]*X[[1, 2, 0]], axis=1)\n",
    "        \n",
    "        if np.any(dots < 0):\n",
    "            print('i = %d, t = %d, I = %s' % (i, t, I))\n",
    "            assert False"
   ]
  },
  {
   "cell_type": "code",
   "execution_count": 78,
   "metadata": {},
   "outputs": [],
   "source": [
    "i = 0\n",
    "t = 2499\n",
    "I = [803, 1607, 1898]"
   ]
  },
  {
   "cell_type": "code",
   "execution_count": 82,
   "metadata": {},
   "outputs": [
    {
     "data": {
      "text/plain": [
       "array([-0.00089528,  0.00947447,  0.01634254])"
      ]
     },
     "execution_count": 82,
     "metadata": {},
     "output_type": "execute_result"
    }
   ],
   "source": [
    "X = points[I] - points[i]\n",
    "dots = np.sum(X[[0, 1, 2]]*X[[1, 2, 0]], axis=1)\n",
    "dots"
   ]
  },
  {
   "cell_type": "code",
   "execution_count": 108,
   "metadata": {},
   "outputs": [
    {
     "data": {
      "text/plain": [
       "array([[ 152, 1538,  803, 1607],\n",
       "       [ 803, 1538, 1897, 1898],\n",
       "       [1538, 1607, 1089, 1898]])"
      ]
     },
     "execution_count": 108,
     "metadata": {},
     "output_type": "execute_result"
    }
   ],
   "source": [
    "tetra[np.array(solver.mesh.tt_neib[s])[[0, 2, 3]]]"
   ]
  },
  {
   "cell_type": "code",
   "execution_count": 111,
   "metadata": {},
   "outputs": [
    {
     "data": {
      "text/plain": [
       "array([[ 152,  803,    0, 1607],\n",
       "       [   0,  803,   26, 1898],\n",
       "       [ 803, 1607, 1538, 1898],\n",
       "       [1433, 1607,    0, 1898]])"
      ]
     },
     "execution_count": 111,
     "metadata": {},
     "output_type": "execute_result"
    }
   ],
   "source": [
    "tetra[tt_neib]"
   ]
  },
  {
   "cell_type": "code",
   "execution_count": 109,
   "metadata": {},
   "outputs": [
    {
     "data": {
      "text/plain": [
       "[3535, 2499, 4302, 1356]"
      ]
     },
     "execution_count": 109,
     "metadata": {},
     "output_type": "execute_result"
    }
   ],
   "source": [
    "tt_neib = solver.mesh.tt_neib[t]\n",
    "s = tt_neib[np.where(~np.any(tetra[tt_neib] == i, axis=1))[0][0]]\n",
    "solver.mesh.tt_neib[s]"
   ]
  },
  {
   "cell_type": "code",
   "execution_count": 27,
   "metadata": {},
   "outputs": [
    {
     "name": "stdout",
     "output_type": "stream",
     "text": [
      "Int64Vector[954]\n"
     ]
    }
   ],
   "source": [
    "i0 = np.argmin(np.sum(points**2, axis=1))\n",
    "\n",
    "solver.set_state(i0, olim.State.Trial)\n",
    "solver.set_value(i0, 0.0)\n",
    "\n",
    "solver.commit()\n",
    "\n",
    "print(solver.heap)"
   ]
  },
  {
   "cell_type": "code",
   "execution_count": 28,
   "metadata": {},
   "outputs": [
    {
     "data": {
      "text/plain": [
       "True"
      ]
     },
     "execution_count": 28,
     "metadata": {},
     "output_type": "execute_result"
    }
   ],
   "source": [
    "solver.step()"
   ]
  },
  {
   "cell_type": "code",
   "execution_count": 29,
   "metadata": {},
   "outputs": [
    {
     "data": {
      "text/plain": [
       "(array([ 954, 1098, 1141, 1151, 1281, 1298, 1322, 1357, 1397, 1406, 1554,\n",
       "        1645, 1690, 1729, 1810, 1855, 1904, 1908, 1989, 2001]),)"
      ]
     },
     "execution_count": 29,
     "metadata": {},
     "output_type": "execute_result"
    }
   ],
   "source": [
    "np.where(~np.isinf(solver.values))"
   ]
  },
  {
   "cell_type": "code",
   "execution_count": 72,
   "metadata": {},
   "outputs": [
    {
     "data": {
      "text/plain": [
       "(0.0007319406132258845, -0.0009253590231018986, 0.013193458878806073)"
      ]
     },
     "execution_count": 72,
     "metadata": {},
     "output_type": "execute_result"
    }
   ],
   "source": [
    "i, r = 200, 0\n",
    "\n",
    "t = solver.tetra_nb[i][r]\n",
    "T = tetra[t]\n",
    "J = T[T != i]\n",
    "x0, x1, x2 = points[J] - points[i]\n",
    "\n",
    "x0@x1, x0@x2, x1@x2"
   ]
  },
  {
   "cell_type": "code",
   "execution_count": 73,
   "metadata": {},
   "outputs": [
    {
     "data": {
      "text/plain": [
       "array([[ 152,  803,    0, 1607],\n",
       "       [   0,  803,   26, 1898],\n",
       "       [ 803, 1607, 1538, 1898],\n",
       "       [1433, 1607,    0, 1898]])"
      ]
     },
     "execution_count": 73,
     "metadata": {},
     "output_type": "execute_result"
    }
   ],
   "source": [
    "tetra[solver.mesh.tt_neib[t]] == "
   ]
  },
  {
   "cell_type": "code",
   "execution_count": 76,
   "metadata": {},
   "outputs": [
    {
     "data": {
      "text/plain": [
       "array([[ 0.40846406, -0.5025264 , -0.10550597],\n",
       "       [ 0.50567876, -0.64659692, -0.13419885],\n",
       "       [ 0.26854994, -0.66670308, -0.11423071],\n",
       "       [ 0.37052469, -0.71675778, -0.21452937]])"
      ]
     },
     "execution_count": 76,
     "metadata": {},
     "output_type": "execute_result"
    }
   ],
   "source": [
    "points[tetra[0]]"
   ]
  },
  {
   "cell_type": "code",
   "execution_count": 16,
   "metadata": {},
   "outputs": [],
   "source": [
    "grid = pv.read('sphere3.vtk')"
   ]
  },
  {
   "cell_type": "code",
   "execution_count": 23,
   "metadata": {},
   "outputs": [],
   "source": [
    "centroids = np.mean(points[tetra], axis=1)"
   ]
  },
  {
   "cell_type": "code",
   "execution_count": 24,
   "metadata": {},
   "outputs": [],
   "source": [
    "I = np.logical_and(\n",
    "    np.any(np.array(solver.mesh.tt_neib) == -1, axis=1),\n",
    "    centroids[:, 2] < 0\n",
    ")"
   ]
  },
  {
   "cell_type": "code",
   "execution_count": 25,
   "metadata": {},
   "outputs": [],
   "source": [
    "subgrid = grid.extract_cells(I)"
   ]
  },
  {
   "cell_type": "code",
   "execution_count": 26,
   "metadata": {},
   "outputs": [],
   "source": [
    "plotter = pv.BackgroundPlotter()\n",
    "plotter.add_mesh(subgrid, 'lightgrey', opacity=1, lighting=True, show_edges=True)\n",
    "plotter.show()"
   ]
  }
 ],
 "metadata": {
  "kernelspec": {
   "display_name": "Python 3",
   "language": "python",
   "name": "python3"
  },
  "language_info": {
   "codemirror_mode": {
    "name": "ipython",
    "version": 3
   },
   "file_extension": ".py",
   "mimetype": "text/x-python",
   "name": "python",
   "nbconvert_exporter": "python",
   "pygments_lexer": "ipython3",
   "version": "3.7.5"
  }
 },
 "nbformat": 4,
 "nbformat_minor": 4
}
