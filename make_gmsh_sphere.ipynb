{
 "cells": [
  {
   "cell_type": "code",
   "execution_count": 11,
   "metadata": {},
   "outputs": [],
   "source": [
    "import pygmsh\n",
    "import meshio\n",
    "import numpy as np"
   ]
  },
  {
   "cell_type": "code",
   "execution_count": 12,
   "metadata": {},
   "outputs": [],
   "source": [
    "P = 3\n",
    "h = 1/2**P"
   ]
  },
  {
   "cell_type": "code",
   "execution_count": 13,
   "metadata": {},
   "outputs": [
    {
     "name": "stdout",
     "output_type": "stream",
     "text": [
      "Info    : Running '/usr/local/lib/python3.7/site-packages/gmsh-4.4.1-MacOSX-sdk/lib/../bin/gmsh -3 /var/folders/g4/yh9j0ftn77q81dxwdmt77q940000gn/T/tmpvkci1lmw.geo -format msh -bin -o /var/folders/g4/yh9j0ftn77q81dxwdmt77q940000gn/T/tmprnbyf6sx.msh' [Gmsh 4.4.1, 1 node, max. 1 thread]\n",
      "Info    : Started on Tue Dec 17 13:08:05 2019\n",
      "Info    : Reading '/var/folders/g4/yh9j0ftn77q81dxwdmt77q940000gn/T/tmpvkci1lmw.geo'...\n",
      "Info    : Done reading '/var/folders/g4/yh9j0ftn77q81dxwdmt77q940000gn/T/tmpvkci1lmw.geo'\n",
      "Info    : Meshing 1D...\n",
      "Info    : Meshing curve 2 (Circle)\n",
      "Info    : Done meshing 1D (0.000806 s)\n",
      "Info    : Meshing 2D...\n",
      "Info    : Meshing surface 1 (Sphere, MeshAdapt)\n",
      "Info    : Done meshing 2D (0.806182 s)\n",
      "Info    : Meshing 3D...\n",
      "Info    : 3D Meshing 1 volumes with 1 connected components\n",
      "Info    : Tetrahedrization of 962 points in 0.019671 seconds\n",
      "Info    : Reconstructing mesh...\n",
      "Info    :  - Creating surface mesh\n",
      "Info    :  - Identifying boundary edges\n",
      "Info    :  - Recovering boundary\n",
      "Info    : Done reconstructing mesh (0.037386 s)\n",
      "Info    : Found region 1\n",
      "Info    : 0 points created - worst tet radius 8.50417 (points removed 0 0)\n",
      "Info    : 500 points created - worst tet radius 1.28292 (points removed 0 0)\n",
      "Info    : 1000 points created - worst tet radius 1.04334 (points removed 0 0)\n",
      "Info    : 3D point insertion terminated (2102 points created):\n",
      "Info    :  - 0 Delaunay cavities modified for star shapeness\n",
      "Info    :  - 0 points could not be inserted\n",
      "Info    :  - 10095 tetrahedra created in 0.077808 sec. (129742 tets/s)\n",
      "Info    : Done meshing 3D (0.157411 s)\n",
      "Info    : Optimizing 3D mesh...\n",
      "Info    : Optimizing volume 1\n",
      "Info    : Optimization starts (volume = 4.1632) with worst = 0.00331168 / average = 0.771445:\n",
      "Info    : 0.00 < quality < 0.10 :        24 elements\n",
      "Info    : 0.10 < quality < 0.20 :        71 elements\n",
      "Info    : 0.20 < quality < 0.30 :       126 elements\n",
      "Info    : 0.30 < quality < 0.40 :       163 elements\n",
      "Info    : 0.40 < quality < 0.50 :       262 elements\n",
      "Info    : 0.50 < quality < 0.60 :       496 elements\n",
      "Info    : 0.60 < quality < 0.70 :      1145 elements\n",
      "Info    : 0.70 < quality < 0.80 :      2494 elements\n",
      "Info    : 0.80 < quality < 0.90 :      3643 elements\n",
      "Info    : 0.90 < quality < 1.00 :      1671 elements\n",
      "Info    : 220 edge swaps, 9 node relocations (volume = 4.1632): worst = 0.211605 / average = 0.785603 (0.008123 s)\n",
      "Info    : 222 edge swaps, 9 node relocations (volume = 4.1632): worst = 0.300311 / average = 0.78573 (0.010061 s)\n",
      "Info    : No ill-shaped tets in the mesh :-)\n",
      "Info    : 0.00 < quality < 0.10 :         0 elements\n",
      "Info    : 0.10 < quality < 0.20 :         0 elements\n",
      "Info    : 0.20 < quality < 0.30 :         0 elements\n",
      "Info    : 0.30 < quality < 0.40 :       161 elements\n",
      "Info    : 0.40 < quality < 0.50 :       244 elements\n",
      "Info    : 0.50 < quality < 0.60 :       469 elements\n",
      "Info    : 0.60 < quality < 0.70 :      1144 elements\n",
      "Info    : 0.70 < quality < 0.80 :      2519 elements\n",
      "Info    : 0.80 < quality < 0.90 :      3684 elements\n",
      "Info    : 0.90 < quality < 1.00 :      1670 elements\n",
      "Info    : Done optimizing 3D mesh (0.024625 s)\n",
      "Info    : 2102 vertices 11823 elements\n",
      "Info    : Writing '/var/folders/g4/yh9j0ftn77q81dxwdmt77q940000gn/T/tmprnbyf6sx.msh'...\n",
      "Info    : Done writing '/var/folders/g4/yh9j0ftn77q81dxwdmt77q940000gn/T/tmprnbyf6sx.msh'\n",
      "Info    : Stopped on Tue Dec 17 13:08:06 2019\n"
     ]
    }
   ],
   "source": [
    "geom = pygmsh.opencascade.Geometry(\n",
    "    characteristic_length_min=h,\n",
    "    characteristic_length_max=h,\n",
    ")\n",
    "\n",
    "domain = geom.add_ball((0, 0, 0), 1)\n",
    "\n",
    "geom.add_physical(domain, label='domain')\n",
    "\n",
    "mesh = pygmsh.generate_mesh(geom, verbose=True)\n",
    "\n",
    "mesh.write('sphere%d.vtk' % P)"
   ]
  }
 ],
 "metadata": {
  "kernelspec": {
   "display_name": "Python 3",
   "language": "python",
   "name": "python3"
  },
  "language_info": {
   "codemirror_mode": {
    "name": "ipython",
    "version": 3
   },
   "file_extension": ".py",
   "mimetype": "text/x-python",
   "name": "python",
   "nbconvert_exporter": "python",
   "pygments_lexer": "ipython3",
   "version": "3.7.5"
  }
 },
 "nbformat": 4,
 "nbformat_minor": 4
}
