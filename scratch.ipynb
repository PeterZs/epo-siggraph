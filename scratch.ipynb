{
 "cells": [
  {
   "cell_type": "code",
   "execution_count": 2,
   "metadata": {},
   "outputs": [],
   "source": [
    "import pyvista as pv\n",
    "import numpy as np\n",
    "import scipy.spatial"
   ]
  },
  {
   "cell_type": "code",
   "execution_count": 36,
   "metadata": {},
   "outputs": [],
   "source": [
    "V = np.random.randn(100, 3)\n",
    "V /= np.sqrt(np.sum(V**2, axis=1)).reshape(V.shape[0], 1)"
   ]
  },
  {
   "cell_type": "code",
   "execution_count": 37,
   "metadata": {},
   "outputs": [],
   "source": [
    "F = scipy.spatial.ConvexHull(V).simplices"
   ]
  },
  {
   "cell_type": "code",
   "execution_count": 38,
   "metadata": {},
   "outputs": [],
   "source": [
    "vertices = V\n",
    "faces = np.block([3*np.ones(F.shape[0], dtype=F.dtype).reshape(F.shape[0], 1), F]).flatten()"
   ]
  },
  {
   "cell_type": "code",
   "execution_count": 39,
   "metadata": {},
   "outputs": [],
   "source": [
    "poly = pv.PolyData(vertices, faces)"
   ]
  },
  {
   "cell_type": "code",
   "execution_count": 44,
   "metadata": {},
   "outputs": [
    {
     "data": {
      "image/png": "[encoded data removed]",
      "text/plain": [
       "<PIL.Image.Image image mode=RGB size=512x512 at 0x149CBC6D0>"
      ]
     },
     "metadata": {},
     "output_type": "display_data"
    }
   ],
   "source": [
    "plt = pv.Plotter()\n",
    "plt.add_mesh(poly, show_edges=True)\n",
    "plt.show(window_size=(512, 512))"
   ]
  },
  {
   "cell_type": "code",
   "execution_count": 1,
   "metadata": {},
   "outputs": [
    {
     "ename": "ImportError",
     "evalue": "dlopen(/Volumes/Molly/LocalWorkspace/epo/lib/python3.7/site-packages/olim.cpython-37m-darwin.so, 2): Symbol not found: __ZN4olim8geometry18spherical_delaunayEN5Eigen3RefINS1_6MatrixIdLin1ELi3ELi1ELin1ELi3EEELi0ENS1_11OuterStrideILin1EEEEE\n  Referenced from: /Volumes/Molly/LocalWorkspace/epo/lib/python3.7/site-packages/olim.cpython-37m-darwin.so\n  Expected in: flat namespace\n in /Volumes/Molly/LocalWorkspace/epo/lib/python3.7/site-packages/olim.cpython-37m-darwin.so",
     "output_type": "error",
     "traceback": [
      "\u001b[0;31m---------------------------------------------------------------------------\u001b[0m",
      "\u001b[0;31mImportError\u001b[0m                               Traceback (most recent call last)",
      "\u001b[0;32m<ipython-input-1-d2e4d5ce46f0>\u001b[0m in \u001b[0;36m<module>\u001b[0;34m\u001b[0m\n\u001b[0;32m----> 1\u001b[0;31m \u001b[0;32mimport\u001b[0m \u001b[0molim\u001b[0m\u001b[0;34m\u001b[0m\u001b[0;34m\u001b[0m\u001b[0m\n\u001b[0m",
      "\u001b[0;31mImportError\u001b[0m: dlopen(/Volumes/Molly/LocalWorkspace/epo/lib/python3.7/site-packages/olim.cpython-37m-darwin.so, 2): Symbol not found: __ZN4olim8geometry18spherical_delaunayEN5Eigen3RefINS1_6MatrixIdLin1ELi3ELi1ELin1ELi3EEELi0ENS1_11OuterStrideILin1EEEEE\n  Referenced from: /Volumes/Molly/LocalWorkspace/epo/lib/python3.7/site-packages/olim.cpython-37m-darwin.so\n  Expected in: flat namespace\n in /Volumes/Molly/LocalWorkspace/epo/lib/python3.7/site-packages/olim.cpython-37m-darwin.so"
     ]
    }
   ],
   "source": [
    "import olim"
   ]
  }
 ],
 "metadata": {
  "kernelspec": {
   "display_name": "Python 3",
   "language": "python",
   "name": "python3"
  },
  "language_info": {
   "codemirror_mode": {
    "name": "ipython",
    "version": 3
   },
   "file_extension": ".py",
   "mimetype": "text/x-python",
   "name": "python",
   "nbconvert_exporter": "python",
   "pygments_lexer": "ipython3",
   "version": "3.7.5"
  }
 },
 "nbformat": 4,
 "nbformat_minor": 4
}
